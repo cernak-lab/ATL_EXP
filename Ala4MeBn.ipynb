{
 "cells": [
  {
   "cell_type": "code",
   "execution_count": 1,
   "metadata": {},
   "outputs": [],
   "source": [
    "import numpy as np\n",
    "import pandas as pd\n",
    "import joblib\n",
    "import matplotlib.pyplot as plt\n",
    "import seaborn as sns\n",
    "import joblib\n",
    "from collections import Counter\n",
    "from data.data_utils import *\n",
    "from atl_utils import *"
   ]
  },
  {
   "cell_type": "code",
   "execution_count": 2,
   "metadata": {},
   "outputs": [],
   "source": [
    "list_of_source_models = joblib.load(\"joblib_files/source_model_100_trees.joblib\")"
   ]
  },
  {
   "cell_type": "code",
   "execution_count": 3,
   "metadata": {},
   "outputs": [],
   "source": [
    "# Preparing necessary arrays to get suggestions of experiments\n",
    "additive_ids = np.array([\n",
    "    [0, 0], # None\n",
    "    [5, 1], # NaCl\n",
    "    [5, 3], # NaI\n",
    "    [6, 1], # MgCl2\n",
    "    [6, 2], # MgBr2\n",
    "    [7, 1], # KCl\n",
    "    [7, 2], # KBr\n",
    "    [7, 3], # KI\n",
    "    [8, 1], # ZnCl2\n",
    "    [9, 9], # succinimide\n",
    "    [10, 1], # TMSCl\n",
    "    [11, 1], # TBACl\n",
    "    [11, 2], # TBABr\n",
    "    [11, 3] # TBAI\n",
    "])\n",
    "additive_names = [\"None\", \"NaCl\", \"NaI\", \"MgCl2\", \"MgBr2\", \"KCl\", \"KBr\", \"KI\", \"ZnCl2\", \"succinimide\", \"TMSCl\", \"TBACl\", \"TBABr\", \"TBAI\"]\n",
    "additive_name_to_id = {}\n",
    "additive_id_to_name = {}\n",
    "for i, row in enumerate(additive_ids) : \n",
    "    additive_id_to_name.update({\n",
    "        tuple(row) : additive_names[i]\n",
    "    })\n",
    "for k, v in additive_id_to_name.items():\n",
    "    additive_name_to_id.update({v:k})\n",
    "    \n",
    "X_candidate_id = prep_array_of_enumerated_candidates([np.arange(1,6), np.arange(1,30), additive_ids, np.arange(1,10)])\n",
    "X_candidate_desc = prep_array_of_enumerated_candidates([Ni_source_onehot, ligand_desc, additive_ion_onehot, solvent_desc])\n",
    "Ala = pd.read_excel(\"./data/descriptors.xlsx\", sheet_name=\"NHPI\", usecols=list(np.arange(2,14))).to_numpy()[1,:]\n",
    "MeBnKat = pd.read_excel(\"./data/descriptors.xlsx\", sheet_name=\"Katritzky\", usecols=list(np.arange(2,14))).to_numpy()[-1,:]\n",
    "\n",
    "X_candidate_desc_Ala4MeBn = np.hstack((\n",
    "    np.hstack((Ala, MeBnKat)).reshape(1,-1).repeat(X_candidate_desc.shape[0], axis=0),\n",
    "    X_candidate_desc\n",
    "))"
   ]
  },
  {
   "cell_type": "code",
   "execution_count": 4,
   "metadata": {},
   "outputs": [
    {
     "name": "stdout",
     "output_type": "stream",
     "text": [
      "[NiBr2(glyme),  4CF3,                  MgCl2,                   tBuOMe] 50\n",
      "[NiBr2(glyme),  4CF3,                  MgCl2,                    glyme] 45\n",
      "[NiBr2(glyme),  4CF3,                  MgBr2,                    glyme] 42\n",
      "[NiBr2(glyme),  4CF3,                  MgBr2,                   tBuOMe] 42\n",
      "[NiCl2(glyme),  4CF3,                  MgCl2,                    glyme] 36\n"
     ]
    }
   ],
   "source": [
    "count_list = count_num_topN_suggestions(\n",
    "    [list_of_source_models], \n",
    "    X_candidate_desc_Ala4MeBn, \n",
    "    12\n",
    ")\n",
    "print_suggestions(X_candidate_id, count_list[0], 5)"
   ]
  },
  {
   "cell_type": "code",
   "execution_count": 5,
   "metadata": {},
   "outputs": [
    {
     "name": "stdout",
     "output_type": "stream",
     "text": [
      "[NiBr2(glyme),  4CF3,                  MgCl2,                   tBuOMe] 29\n",
      "[NiBr2(glyme),  4CF3,                  MgCl2,                    glyme] 27\n",
      "[NiBr2(glyme),  4CF3,                  MgBr2,                   tBuOMe] 17\n",
      "[NiCl2(glyme),  4CF3,                  MgCl2,                    glyme] 16\n",
      "[NiBr2(glyme),  4CF3,                  MgBr2,                    glyme] 15\n"
     ]
    }
   ],
   "source": [
    "# When only 4 votes are made by each RFC\n",
    "count_list = count_num_topN_suggestions(\n",
    "    [list_of_source_models], \n",
    "    X_candidate_desc_Ala4MeBn, \n",
    "    4\n",
    ")\n",
    "print_suggestions(X_candidate_id, count_list[0], 5)"
   ]
  },
  {
   "cell_type": "code",
   "execution_count": 6,
   "metadata": {},
   "outputs": [],
   "source": [
    "iter1_id_array = np.array([\n",
    "    [2,4,2,4,6,1,9],\n",
    "    [2,4,2,4,6,1,6],\n",
    "    [2,4,2,4,6,2,6],\n",
    "])\n",
    "iter1_desc = id_array_to_desc_array(iter1_id_array, True)\n",
    "\n",
    "### Assigning weights to each tree by the number of wrong predictions\n",
    "# if any one is wrong, weight becomes zero\n",
    "tree_weights = np.zeros((100,100))\n",
    "for i, rfc in enumerate(list_of_source_models) : \n",
    "    for j, dtc in enumerate(rfc.estimators_) :\n",
    "        if np.sum(dtc.predict(iter1_desc)) == 0 : \n",
    "            tree_weights[i,j] = 1\n",
    "\n",
    "weighted_probabilities = np.zeros((X_candidate_desc_Ala4MeBn.shape[0], 100))   # scheme 2\n",
    "\n",
    "for i, rfc in enumerate(list_of_source_models) : \n",
    "    Me_probabilities_by_tree = np.zeros((X_candidate_desc_Ala4MeBn.shape[0], 100))\n",
    "    for j, dtc in enumerate(rfc.estimators_) :\n",
    "        Me_probabilities_by_tree[:,j] = dtc.predict_proba(X_candidate_desc_Ala4MeBn)[:,1]\n",
    "    weighted_probabilities[:,i] = np.matmul(Me_probabilities_by_tree, tree_weights[i,:].reshape(-1,1)).reshape(-1,)"
   ]
  },
  {
   "cell_type": "code",
   "execution_count": 7,
   "metadata": {},
   "outputs": [
    {
     "data": {
      "text/plain": [
       "3871"
      ]
     },
     "execution_count": 7,
     "metadata": {},
     "output_type": "execute_result"
    }
   ],
   "source": [
    "# Total number of decision trees removed\n",
    "np.sum(tree_weights==0)"
   ]
  },
  {
   "cell_type": "code",
   "execution_count": 8,
   "metadata": {},
   "outputs": [
    {
     "name": "stdout",
     "output_type": "stream",
     "text": [
      "[NiCl2(glyme),  4CF3,                    KCl,                      THF] 24\n",
      "[NiCl2(glyme),  4CF3,                  MgBr2,                      THF] 18\n",
      "[NiCl2(glyme),  4CF3,                  MgCl2,                      THF] 18\n",
      "[NiCl2(glyme),  4CF3,                    KCl,                  Dioxane] 17\n",
      "[NiCl2(glyme),  4CF3,                  TMSCl,                      THF] 15\n",
      "[NiCl2(glyme),  4CF3,            succinimide,                      THF] 14\n"
     ]
    }
   ],
   "source": [
    "iter2_suggestion_counter = Counter()\n",
    "for i in range(100):\n",
    "    iter2_suggestion_counter.update(\n",
    "        np.argsort(weighted_probabilities[:,i])[::-1][:12]\n",
    "    )\n",
    "\n",
    "print_suggestions(X_candidate_id, iter2_suggestion_counter, 6)"
   ]
  }
 ],
 "metadata": {
  "kernelspec": {
   "display_name": "atl",
   "language": "python",
   "name": "python3"
  },
  "language_info": {
   "codemirror_mode": {
    "name": "ipython",
    "version": 3
   },
   "file_extension": ".py",
   "mimetype": "text/x-python",
   "name": "python",
   "nbconvert_exporter": "python",
   "pygments_lexer": "ipython3",
   "version": "3.10.6"
  }
 },
 "nbformat": 4,
 "nbformat_minor": 2
}
