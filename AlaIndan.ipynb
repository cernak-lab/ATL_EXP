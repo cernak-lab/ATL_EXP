{
 "cells": [
  {
   "cell_type": "code",
   "execution_count": 1,
   "metadata": {},
   "outputs": [],
   "source": [
    "import numpy as np\n",
    "import pandas as pd\n",
    "import matplotlib.pyplot as plt\n",
    "import seaborn as sns\n",
    "import joblib\n",
    "from collections import Counter\n",
    "from data.data_utils import *\n",
    "from atl_utils import *\n",
    "from copy import deepcopy\n",
    "from sklearn.model_selection import GridSearchCV, PredefinedSplit"
   ]
  },
  {
   "cell_type": "code",
   "execution_count": 2,
   "metadata": {},
   "outputs": [],
   "source": [
    "### Load arrays\n",
    "X_desc = joblib.load(\"./joblib_files/X_desc.joblib\")\n",
    "X_id = joblib.load(\"./joblib_files/X_id.joblib\")\n",
    "y = joblib.load(\"./joblib_files/y.joblib\")\n",
    "desc_names = joblib.load(\"./joblib_files/desc_names.joblib\")"
   ]
  },
  {
   "cell_type": "code",
   "execution_count": 3,
   "metadata": {},
   "outputs": [
    {
     "name": "stdout",
     "output_type": "stream",
     "text": [
      "(18270, 58)\n"
     ]
    }
   ],
   "source": [
    "# Training source model after removing ProIndan data\n",
    "X_candidate_desc = prep_array_of_enumerated_candidates([Ni_source_onehot, ligand_desc, additive_ion_onehot, solvent_desc])\n",
    "BocAla = pd.read_excel(\"./data/descriptors.xlsx\", sheet_name=\"NHPI\", usecols=list(np.arange(2,14))).to_numpy()[1,:]\n",
    "IndanKat = pd.read_excel(\"./data/descriptors.xlsx\", sheet_name=\"Katritzky\", usecols=list(np.arange(2,14))).to_numpy()[1,:]\n",
    "\n",
    "X_candidate_desc = np.hstack((\n",
    "    np.hstack((BocAla, IndanKat)).reshape(1,-1).repeat(X_candidate_desc.shape[0], axis=0),\n",
    "    X_candidate_desc\n",
    "))\n",
    "print(X_candidate_desc.shape)"
   ]
  },
  {
   "cell_type": "code",
   "execution_count": 4,
   "metadata": {},
   "outputs": [
    {
     "name": "stdout",
     "output_type": "stream",
     "text": [
      "(83, 8)\n"
     ]
    }
   ],
   "source": [
    "# Separating the 80 reactions between BocAla and Indan in the original dataset\n",
    "X_desc_noAlaIndan, X_desc_AlaIndan = X_desc[:-80, :], X_desc[-80:,:]\n",
    "X_id_noAlaIndan, X_id_AlaIndan = X_id[:-80,:], X_id[-80:, :]\n",
    "print(X_id_noAlaIndan.shape)\n",
    "y_noAlaIndan, y_AlaIndan = y[:-80], y[-80:]"
   ]
  },
  {
   "cell_type": "code",
   "execution_count": 5,
   "metadata": {},
   "outputs": [],
   "source": [
    "target_AlaIndan_models_15_trees = train_target_models(X_desc_AlaIndan, y_AlaIndan, 100, 15, max_depth=1)"
   ]
  },
  {
   "cell_type": "code",
   "execution_count": 6,
   "metadata": {},
   "outputs": [
    {
     "name": "stdout",
     "output_type": "stream",
     "text": [
      "(18270, 5) (18270, 58)\n",
      "(18199, 5) (18199, 58)\n"
     ]
    }
   ],
   "source": [
    "# Removing the 80 that has been tested as a part of the source data from all possible candidates\n",
    "X_candidate_id = prep_array_of_enumerated_candidates(COMPONENT_ID_ARRAY)\n",
    "X_candidate_desc = id_array_to_desc_array(\n",
    "    np.hstack((\n",
    "        np.ones(X_candidate_id.shape[0]).reshape(-1, 1),\n",
    "        np.ones(X_candidate_id.shape[0]).reshape(-1, 1)*2,\n",
    "        X_candidate_id\n",
    "    )),\n",
    "    True\n",
    ")\n",
    "print(X_candidate_id.shape, X_candidate_desc.shape)\n",
    "\n",
    "initial_X_candidate_id, initial_X_candidate_desc = remove_prev_sampled_rxns(\n",
    "    X_candidate_id, X_candidate_desc, X_id_AlaIndan[:, 2:-1]\n",
    ")\n",
    "print(initial_X_candidate_id.shape, initial_X_candidate_desc.shape)"
   ]
  },
  {
   "cell_type": "code",
   "execution_count": 7,
   "metadata": {},
   "outputs": [
    {
     "name": "stdout",
     "output_type": "stream",
     "text": [
      "(235, 58) (235,)\n"
     ]
    }
   ],
   "source": [
    "# Adding ProMex reactions\n",
    "ProMex_data = sheets_to_list_of_dfs(\"./data/reaction_data.xlsx\", [\"ProMex\"])\n",
    "X_id_ProMex = ProMex_data[0].iloc[:, 1:-2].to_numpy()\n",
    "X_desc_ProMex = id_array_to_desc_array(X_id_ProMex, True)\n",
    "\n",
    "LCyield_ProMex = ProMex_data[0].iloc[:, -1].to_numpy()\n",
    "y_ProMex = np.zeros_like(LCyield_ProMex)\n",
    "y_ProMex[np.where(LCyield_ProMex < 7)[0]] = 0\n",
    "y_ProMex[np.where(LCyield_ProMex >= 7)[0]] = 1\n",
    "\n",
    "# Following what was actually done\n",
    "X_ATL_desc_source = np.vstack((X_desc[:-80], X_desc_ProMex, X_desc[-80:])) \n",
    "y_ATL_source = np.concatenate((y[:-80], y_ProMex, y[-80:]))\n",
    "print(X_ATL_desc_source.shape, y_ATL_source.shape)"
   ]
  },
  {
   "cell_type": "code",
   "execution_count": 8,
   "metadata": {},
   "outputs": [],
   "source": [
    "# Training source model\n",
    "ATL_source_model_100_trees = []\n",
    "for j in range(100) :\n",
    "    rfc = RandomForestClassifier(n_estimators=100, max_depth=1, random_state=42+j, n_jobs=-1)\n",
    "    rfc.fit(X_ATL_desc_source, y_ATL_source)\n",
    "    ATL_source_model_100_trees.append(rfc)"
   ]
  },
  {
   "cell_type": "code",
   "execution_count": 9,
   "metadata": {},
   "outputs": [],
   "source": [
    "# Copying the ID arrays to separate from the AL approach\n",
    "initial_ATL_X_candidate_desc = deepcopy(initial_X_candidate_desc)\n",
    "initial_ATL_X_candidate_id = deepcopy(initial_X_candidate_id)"
   ]
  },
  {
   "cell_type": "code",
   "execution_count": 10,
   "metadata": {},
   "outputs": [
    {
     "name": "stdout",
     "output_type": "stream",
     "text": [
      "[NiBr2(glyme),  4CF3,                    KBr,                      THF] 61\n",
      "[NiBr2(glyme),  4CF3,                    KBr,                  Dioxane] 58\n",
      "[NiCl2(glyme),  4CF3,                    KBr,                  Dioxane] 57\n",
      "[    Ni(COD)2,  4CF3,                    KBr,                      THF] 54\n",
      "[        NiI2,  4CF3,                    KBr,                      THF] 50\n",
      "[        NiI2,  4CF3,                    KBr,                  Dioxane] 49\n",
      "[    Ni(COD)2,  4CF3,                    KBr,                  Dioxane] 45\n",
      "[   Ni(acac)2,  4CF3,                    KBr,                      THF] 44\n",
      "[NiCl2(glyme),  4CF3,                    KCl,                      THF] 38\n",
      "[NiBr2(glyme),  4CF3,                    KCl,                      THF] 35\n",
      "[   Ni(acac)2,  4CF3,                    KBr,                  Dioxane] 33\n",
      "[NiCl2(glyme),  4CF3,                    KCl,                  Dioxane] 26\n",
      "[NiBr2(glyme),  4CF3,                    KCl,                  Dioxane] 22\n",
      "[        NiI2,  4CF3,                    KCl,                      THF] 22\n",
      "[NiCl2(glyme),  4CF3,                  MgBr2,                  Dioxane] 21\n",
      "[NiBr2(glyme),  4CF3,                     KI,                      THF] 21\n",
      "[    Ni(COD)2,  4CF3,                    KCl,                      THF] 20\n",
      "[NiCl2(glyme),  4CF3,                     KI,                      THF] 20\n",
      "[NiCl2(glyme),  4CF3,                  MgBr2,                      THF] 19\n",
      "[NiBr2(glyme),  4CF3,                  MgBr2,                      THF] 19\n",
      "[   Ni(acac)2,  4CF3,                    KCl,                      THF] 19\n",
      "[NiBr2(glyme),  4CF3,                  MgBr2,                  Dioxane] 18\n",
      "[        NiI2,  4CF3,                  MgBr2,                  Dioxane] 16\n",
      "[NiBr2(glyme),  4CF3,                    KBr,                    glyme] 16\n"
     ]
    }
   ],
   "source": [
    "first_combined_ATL_model = combine_two_model_list_shuffled(ATL_source_model_100_trees, target_AlaIndan_models_15_trees)\n",
    "\n",
    "# Suggestions from 100 trees with 12 votes\n",
    "count_list = count_num_topN_suggestions(\n",
    "    [first_combined_ATL_model], \n",
    "    initial_ATL_X_candidate_desc, \n",
    "    12\n",
    ")\n",
    "print_suggestions(initial_ATL_X_candidate_id, count_list[0], 24)"
   ]
  },
  {
   "cell_type": "markdown",
   "metadata": {},
   "source": [
    "## Second iteration"
   ]
  },
  {
   "cell_type": "code",
   "execution_count": 11,
   "metadata": {},
   "outputs": [
    {
     "name": "stdout",
     "output_type": "stream",
     "text": [
      "[1. 0. 0. 1. 0. 0.]\n"
     ]
    }
   ],
   "source": [
    "### Array preparation\n",
    "df1 = sheets_to_list_of_dfs(\"./data/reaction_data.xlsx\", [\"AlaIndan_ATL\"])\n",
    "ATL_first_id_array = df1[0].iloc[:6, 1:-2].to_numpy()\n",
    "AlaIndan_ATL_first_desc = id_array_to_desc_array(ATL_first_id_array, True)\n",
    "\n",
    "ATL_first_assay_yield = df1[0].iloc[:6, -1].to_numpy()\n",
    "y_ATL_first = np.zeros(len(ATL_first_assay_yield))\n",
    "y_ATL_first[np.where(ATL_first_assay_yield >= 14)[0]] = 1 \n",
    "print(y_ATL_first)"
   ]
  },
  {
   "cell_type": "code",
   "execution_count": 12,
   "metadata": {},
   "outputs": [],
   "source": [
    "first_ATL_target_models = train_target_models(AlaIndan_ATL_first_desc, y_ATL_first, 100, 15, max_depth=1)\n",
    "first_combined_ATL_models = combine_two_model_list_shuffled(first_combined_ATL_model, first_ATL_target_models)"
   ]
  },
  {
   "cell_type": "code",
   "execution_count": 13,
   "metadata": {},
   "outputs": [
    {
     "name": "stdout",
     "output_type": "stream",
     "text": [
      "Before removing previous samples:  (18199, 5) (18199, 58)\n",
      "After removing previous samples:  (18193, 5) (18193, 58)\n"
     ]
    }
   ],
   "source": [
    "# Removing the reactions conducted in first iteration\n",
    "print(\"Before removing previous samples: \", initial_ATL_X_candidate_id.shape, initial_ATL_X_candidate_desc.shape)\n",
    "ATL_X_candidate_id, ATL_X_candidate_desc = remove_prev_sampled_rxns(\n",
    "    initial_ATL_X_candidate_id, initial_ATL_X_candidate_desc, ATL_first_id_array[:, 2:]\n",
    ")\n",
    "print(\"After removing previous samples: \", ATL_X_candidate_id.shape, ATL_X_candidate_desc.shape)"
   ]
  },
  {
   "cell_type": "code",
   "execution_count": 14,
   "metadata": {},
   "outputs": [
    {
     "name": "stdout",
     "output_type": "stream",
     "text": [
      "[        NiI2,  4CF3,                    KBr,                  Dioxane] 87\n",
      "[        NiI2,  4CF3,                    KCl,                  Dioxane] 77\n",
      "[        NiI2,  4CF3,                     KI,                  Dioxane] 64\n",
      "[        NiI2,  4CF3,                  MgBr2,                  Dioxane] 63\n",
      "[        NiI2,  4CF3,                  TBABr,                  Dioxane] 63\n",
      "[NiCl2(glyme),  4CF3,                    KCl,                  Dioxane] 58\n",
      "[NiCl2(glyme),  4CF3,                     KI,                  Dioxane] 51\n",
      "[NiCl2(glyme),  4CF3,                  MgBr2,                  Dioxane] 49\n",
      "[NiCl2(glyme),  4CF3,                  TBABr,                  Dioxane] 47\n",
      "[        NiI2,  4CF3,            succinimide,                  Dioxane] 42\n",
      "[        NiI2,  4CF3,                  MgCl2,                  Dioxane] 41\n",
      "[        NiI2,  4CF3,                  ZnCl2,                  Dioxane] 41\n",
      "[        NiI2,  4CF3,                  TMSCl,                  Dioxane] 39\n",
      "[        NiI2,  4CF3,                  TBACl,                  Dioxane] 37\n",
      "[        NiI2,  4CF3,                   None,                  Dioxane] 35\n",
      "[NiCl2(glyme),  4CF3,                  TBACl,                  Dioxane] 35\n",
      "[NiCl2(glyme),  4CF3,                   NaCl,                  Dioxane] 32\n",
      "[NiCl2(glyme),  4CF3,                   TBAI,                  Dioxane] 31\n",
      "[        NiI2,  4CF3,                   NaCl,                  Dioxane] 23\n",
      "[        NiI2,  4CF3,                   TBAI,                  Dioxane] 18\n",
      "[   Ni(acac)2,  4CF3,                    KBr,                  Dioxane] 11\n",
      "[NiCl2(glyme),  4CF3,                    KBr,                     CPME] 11\n",
      "[    Ni(COD)2,  4CF3,                    KBr,                  Dioxane] 11\n",
      "[        NiI2,  4CF3,                    KCl,                      THF] 9\n"
     ]
    }
   ],
   "source": [
    "# Suggestions from 100 trees with 12 votes\n",
    "count_list = count_num_topN_suggestions(\n",
    "    [first_combined_ATL_models], \n",
    "    ATL_X_candidate_desc, \n",
    "    12\n",
    ")\n",
    "print_suggestions(ATL_X_candidate_id, count_list[0], 24)"
   ]
  },
  {
   "cell_type": "markdown",
   "metadata": {},
   "source": [
    "## Third iteration"
   ]
  },
  {
   "cell_type": "code",
   "execution_count": 15,
   "metadata": {},
   "outputs": [
    {
     "name": "stdout",
     "output_type": "stream",
     "text": [
      "[1. 0. 0. 1. 0. 1.]\n"
     ]
    }
   ],
   "source": [
    "### Array preparation\n",
    "df1 = sheets_to_list_of_dfs(\"./data/reaction_data.xlsx\", [\"AlaIndan_ATL\"])\n",
    "ATL_second_id_array = df1[0].iloc[6:12, 1:-2].to_numpy()\n",
    "AlaIndan_ATL_second_desc = id_array_to_desc_array(ATL_second_id_array, True)\n",
    "\n",
    "ATL_second_assay_yield = df1[0].iloc[6:12, -1].to_numpy()\n",
    "y_ATL_second = np.zeros(len(ATL_second_assay_yield))\n",
    "y_ATL_second[np.where(ATL_second_assay_yield >= 14)[0]] = 1 \n",
    "print(y_ATL_second)"
   ]
  },
  {
   "cell_type": "code",
   "execution_count": 16,
   "metadata": {},
   "outputs": [],
   "source": [
    "second_ATL_target_models = train_target_models(AlaIndan_ATL_second_desc, y_ATL_second, 100, 15, max_depth=1)\n",
    "second_combined_ATL_models = combine_two_model_list_shuffled(first_combined_ATL_models, second_ATL_target_models)"
   ]
  },
  {
   "cell_type": "code",
   "execution_count": 17,
   "metadata": {},
   "outputs": [
    {
     "name": "stdout",
     "output_type": "stream",
     "text": [
      "Before removing previous samples:  (18193, 5) (18193, 58)\n",
      "After removing previous samples:  (18187, 5) (18187, 58)\n"
     ]
    }
   ],
   "source": [
    "# Removing the reactions conducted in second iteration\n",
    "print(\"Before removing previous samples: \", ATL_X_candidate_id.shape, ATL_X_candidate_desc.shape)\n",
    "ATL_X_candidate_id, ATL_X_candidate_desc = remove_prev_sampled_rxns(\n",
    "    ATL_X_candidate_id, ATL_X_candidate_desc, ATL_second_id_array[:, 2:]\n",
    ")\n",
    "print(\"After removing previous samples: \", ATL_X_candidate_id.shape, ATL_X_candidate_desc.shape)"
   ]
  },
  {
   "cell_type": "code",
   "execution_count": 18,
   "metadata": {},
   "outputs": [
    {
     "name": "stdout",
     "output_type": "stream",
     "text": [
      "[NiCl2(glyme),  4CF3,                     KI,                  Dioxane] 88\n",
      "[NiCl2(glyme),  4CF3,                  MgBr2,                  Dioxane] 67\n",
      "[NiCl2(glyme),  4CF3,                   TBAI,                  Dioxane] 46\n",
      "[NiCl2(glyme),  4CF3,                   NaCl,                  Dioxane] 44\n",
      "[        NiI2,  4CF3,                  MgCl2,                  Dioxane] 41\n",
      "[NiCl2(glyme),  4CF3,                     KI,                     CPME] 30\n",
      "[NiCl2(glyme),  4CF3,                     KI,                      THF] 28\n",
      "[        NiI2,  4CF3,                    NaI,                  Dioxane] 25\n",
      "[NiCl2(glyme),  4CF3,                  MgCl2,                     CPME] 24\n",
      "[NiCl2(glyme),  4CF3,                     KI,                    glyme] 24\n",
      "[    Ni(COD)2,  4CF3,                     KI,                  Dioxane] 23\n",
      "[NiCl2(glyme),  4CF3,                  TBACl,                  Dioxane] 23\n",
      "[   Ni(acac)2,  4CF3,                     KI,                  Dioxane] 21\n",
      "[    Ni(COD)2,  4CF3,                  MgCl2,                  Dioxane] 20\n",
      "[NiCl2(glyme),  5CF3,                     KI,                  Dioxane] 19\n",
      "[NiCl2(glyme),   5CN,                  MgCl2,                  Dioxane] 18\n",
      "[NiCl2(glyme),   5CN,                     KI,                  Dioxane] 18\n",
      "[NiCl2(glyme),  4CF3,                     KI,                     Bu2O] 17\n",
      "[NiCl2(glyme),  4CF3,                     KI,                   tBuOMe] 17\n",
      "[        NiI2,  4CF3,                  ZnCl2,                  Dioxane] 16\n",
      "[NiCl2(glyme),  5CF3,                  MgBr2,                  Dioxane] 15\n",
      "[NiCl2(glyme),  4CF3,                  MgBr2,                     CPME] 15\n",
      "[        NiI2,  4CF3,                   TBAI,                  Dioxane] 15\n",
      "[        NiI2,  4CF3,                   None,                  Dioxane] 15\n"
     ]
    }
   ],
   "source": [
    "# Suggestions from 100 trees with 12 votes\n",
    "count_list = count_num_topN_suggestions(\n",
    "    [second_combined_ATL_models], \n",
    "    ATL_X_candidate_desc, \n",
    "    12\n",
    ")\n",
    "print_suggestions(ATL_X_candidate_id, count_list[0], 24)"
   ]
  },
  {
   "cell_type": "markdown",
   "metadata": {},
   "source": [
    "## Model Analysis"
   ]
  },
  {
   "cell_type": "code",
   "execution_count": 19,
   "metadata": {},
   "outputs": [],
   "source": [
    "source_desc_utilized = get_descriptors_used_by_target_models(ATL_source_model_100_trees, desc_names)\n",
    "first_desc_utilized = get_descriptors_used_by_target_models(target_AlaIndan_models_15_trees, desc_names)\n",
    "second_desc_utilized = get_descriptors_used_by_target_models(first_ATL_target_models, desc_names)\n",
    "third_desc_utilized = get_descriptors_used_by_target_models(second_ATL_target_models, desc_names)\n",
    "desc_utilized_by_batch = [source_desc_utilized, first_desc_utilized, second_desc_utilized, third_desc_utilized]"
   ]
  },
  {
   "cell_type": "code",
   "execution_count": 20,
   "metadata": {},
   "outputs": [
    {
     "data": {
      "image/png": "[encoded data removed]",
      "text/plain": [
       "<Figure size 640x480 with 1 Axes>"
      ]
     },
     "metadata": {},
     "output_type": "display_data"
    }
   ],
   "source": [
    "desc_index = [desc_names.index('Katritzky E_red'), desc_names.index('NiCl2'), desc_names.index('Ligand Ni-X'), desc_names.index('Cl'), desc_names.index('Solvent HansenD')]\n",
    "prev_ind = 0\n",
    "position = [-1.5, -0.5, 0.5, 1.5]\n",
    "width = 0.15\n",
    "bar_colors = [\"#440154\", \"#39568C\", \"#1F968B\", \"#95D840\"]\n",
    "bar_labels = [\"Source\", \"Iter 1\", \"Iter 2\", \"Iter 3\"]\n",
    "component_names = [\"NHPI\", \"Pyridinium\", \"Ni\", \"Ligand\", \"Additive\", \"Solvent\"]\n",
    "\n",
    "fig, ax = plt.subplots()\n",
    "for i, desc_batch in enumerate(desc_utilized_by_batch) : \n",
    "    bars = []\n",
    "    bar_x_pos = [x + position[i]*width for x in range(len(desc_index)+1)] \n",
    "    for j, div_ind in enumerate(desc_index):\n",
    "        bars.append(sum(desc_batch[prev_ind:div_ind])/sum(desc_batch))\n",
    "        if j == len(desc_index) - 1:\n",
    "            bars.append(sum(desc_batch[div_ind:])/sum(desc_batch))\n",
    "        ax.axvline(j+0.5, 0, 1, ls=\"--\", c='grey')\n",
    "        prev_ind = div_ind \n",
    "    ax.bar(bar_x_pos, bars, label=bar_labels[i], color=[bar_colors[i]]*len(bars), width=width, )\n",
    "ax.set_xticks(np.arange(6))\n",
    "ax.set_xticklabels(component_names)\n",
    "ax.set_xlabel(\"Reaction Component\", fontsize=14)\n",
    "ax.set_ylim([0,1])\n",
    "ax.set_yticks(0.2*np.arange(6))\n",
    "ax.set_ylabel(\"Proportion of Descriptors\", fontsize=14)\n",
    "ax.set_yticklabels([round(0.2*x, 1) for x in np.arange(6)])\n",
    "\n",
    "ax.legend(loc=\"upper left\")\n",
    "for axis in ['top', 'bottom', 'left', 'right']:\n",
    "    ax.spines[axis].set_linewidth(2)"
   ]
  }
 ],
 "metadata": {
  "kernelspec": {
   "display_name": "atl",
   "language": "python",
   "name": "python3"
  },
  "language_info": {
   "codemirror_mode": {
    "name": "ipython",
    "version": 3
   },
   "file_extension": ".py",
   "mimetype": "text/x-python",
   "name": "python",
   "nbconvert_exporter": "python",
   "pygments_lexer": "ipython3",
   "version": "3.10.6"
  }
 },
 "nbformat": 4,
 "nbformat_minor": 2
}
