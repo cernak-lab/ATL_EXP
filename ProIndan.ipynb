{
 "cells": [
  {
   "cell_type": "code",
   "execution_count": 1,
   "metadata": {},
   "outputs": [],
   "source": [
    "import numpy as np\n",
    "import pandas as pd\n",
    "import joblib\n",
    "import matplotlib.pyplot as plt\n",
    "import seaborn as sns\n",
    "import joblib\n",
    "from collections import Counter\n",
    "from data.data_utils import *\n",
    "from atl_utils import *"
   ]
  },
  {
   "cell_type": "code",
   "execution_count": 2,
   "metadata": {},
   "outputs": [],
   "source": [
    "### Load arrays\n",
    "X_desc = joblib.load(\"./joblib_files/X_desc.joblib\")\n",
    "X_id = joblib.load(\"./joblib_files/X_id.joblib\")\n",
    "y = joblib.load(\"./joblib_files/y.joblib\")\n",
    "desc_names = joblib.load(\"./joblib_files/desc_names.joblib\")"
   ]
  },
  {
   "cell_type": "code",
   "execution_count": 3,
   "metadata": {},
   "outputs": [
    {
     "name": "stdout",
     "output_type": "stream",
     "text": [
      "(18270, 58)\n"
     ]
    }
   ],
   "source": [
    "# Training source model after removing ProIndan data\n",
    "X_candidate_desc = prep_array_of_enumerated_candidates([Ni_source_onehot, ligand_desc, additive_ion_onehot, solvent_desc])\n",
    "BocPro = pd.read_excel(\"./data/descriptors.xlsx\", sheet_name=\"NHPI\", usecols=list(np.arange(2,14))).to_numpy()[0,:]\n",
    "IndanKat = pd.read_excel(\"./data/descriptors.xlsx\", sheet_name=\"Katritzky\", usecols=list(np.arange(2,14))).to_numpy()[1,:]\n",
    "\n",
    "X_candidate_desc = np.hstack((\n",
    "    np.hstack((BocPro, IndanKat)).reshape(1,-1).repeat(X_candidate_desc.shape[0], axis=0),\n",
    "    X_candidate_desc\n",
    "))\n",
    "print(X_candidate_desc.shape)"
   ]
  },
  {
   "cell_type": "code",
   "execution_count": 4,
   "metadata": {},
   "outputs": [],
   "source": [
    "# Removing the 12 reactions between BocPro and Indan in the original dataset\n",
    "X_desc_noProIndan = np.vstack((\n",
    "    X_desc[:71, :], X_desc[83:, :]\n",
    "))\n",
    "X_id_noProIndan = np.vstack((\n",
    "    X_id[:71, :], X_id[83:, :]\n",
    "))\n",
    "y_noProIndan = np.concatenate((y[:71], y[83:]))"
   ]
  },
  {
   "cell_type": "code",
   "execution_count": 5,
   "metadata": {},
   "outputs": [
    {
     "name": "stdout",
     "output_type": "stream",
     "text": [
      "(223, 58) (223,)\n"
     ]
    }
   ],
   "source": [
    "# Adding ProMex reactions\n",
    "ProMex_data = sheets_to_list_of_dfs(\"./data/reaction_data.xlsx\", [\"ProMex\"])\n",
    "X_id_ProMex = ProMex_data[0].iloc[:, 1:-2].to_numpy()\n",
    "X_desc_ProMex = id_array_to_desc_array(X_id_ProMex, True)\n",
    "\n",
    "LCyield_ProMex = ProMex_data[0].iloc[:, -1].to_numpy()\n",
    "y_ProMex = np.zeros_like(LCyield_ProMex)\n",
    "y_ProMex[np.where(LCyield_ProMex < 7)[0]] = 0\n",
    "y_ProMex[np.where(LCyield_ProMex >= 7)[0]] = 1\n",
    "\n",
    "X_desc_source = np.vstack((X_desc_noProIndan, X_desc_ProMex))\n",
    "y_source = np.concatenate((y_noProIndan, y_ProMex))\n",
    "print(X_desc_source.shape, y_source.shape)"
   ]
  },
  {
   "cell_type": "code",
   "execution_count": 6,
   "metadata": {},
   "outputs": [],
   "source": [
    "# Training source model\n",
    "noProIndan_source_model_100_trees = []\n",
    "for j in range(100) :\n",
    "    rfc = RandomForestClassifier(n_estimators=100, max_depth=1, random_state=42+j, n_jobs=-1)\n",
    "    rfc.fit(X_desc_source, y_source)\n",
    "    noProIndan_source_model_100_trees.append(rfc)"
   ]
  },
  {
   "cell_type": "code",
   "execution_count": 7,
   "metadata": {},
   "outputs": [],
   "source": [
    "### Extracting rxns between BocPro + Indan from original data\n",
    "df = sheets_to_list_of_dfs(\"./data/reaction_data.xlsx\", [\"Source\"])\n",
    "id_array = df[0].iloc[71:83, 1:-2].to_numpy()\n",
    "\n",
    "ProIndan_desc = id_array_to_desc_array(id_array, True)\n",
    "ProIndan_assay_yields = df[0].iloc[71:83, -1].to_numpy()\n",
    "y_ProIndan = np.zeros(len(ProIndan_assay_yields))\n",
    "y_ProIndan[np.where(ProIndan_assay_yields >= 9.5)[0]] = 1"
   ]
  },
  {
   "cell_type": "code",
   "execution_count": 8,
   "metadata": {},
   "outputs": [],
   "source": [
    "target_models = train_target_models(ProIndan_desc, y_ProIndan, 100, 15, max_depth=1)"
   ]
  },
  {
   "cell_type": "code",
   "execution_count": 9,
   "metadata": {},
   "outputs": [],
   "source": [
    "# Randomly mix and matching source and target models\n",
    "combined_models_100_trees = combine_two_model_list_shuffled(\n",
    "    noProIndan_source_model_100_trees, \n",
    "    target_models\n",
    ")"
   ]
  },
  {
   "cell_type": "code",
   "execution_count": 10,
   "metadata": {},
   "outputs": [
    {
     "name": "stdout",
     "output_type": "stream",
     "text": [
      "(18270, 5) (18270, 58)\n",
      "(18258, 5) (18258, 58)\n"
     ]
    }
   ],
   "source": [
    "# Removing the 12 that has been tested as a part of the source data from all possible candidates\n",
    "X_candidate_id = prep_array_of_enumerated_candidates(COMPONENT_ID_ARRAY)\n",
    "X_candidate_desc = id_array_to_desc_array(\n",
    "    np.hstack((\n",
    "        np.ones(X_candidate_id.shape[0]).reshape(-1, 1),\n",
    "        np.ones(X_candidate_id.shape[0]).reshape(-1, 1)*2,\n",
    "        X_candidate_id\n",
    "    )),\n",
    "    True\n",
    ")\n",
    "print(X_candidate_id.shape, X_candidate_desc.shape)\n",
    "\n",
    "X_candidate_id, X_candidate_desc = remove_prev_sampled_rxns(\n",
    "    X_candidate_id, X_candidate_desc, id_array[:, 2:]\n",
    ")\n",
    "print(X_candidate_id.shape, X_candidate_desc.shape)"
   ]
  },
  {
   "cell_type": "code",
   "execution_count": 11,
   "metadata": {},
   "outputs": [
    {
     "name": "stdout",
     "output_type": "stream",
     "text": [
      "[NiBr2(glyme),  4CF3,                    KBr,                      THF] 99\n",
      "[NiBr2(glyme),  4CF3,                    KBr,                  Dioxane] 96\n",
      "[NiBr2(glyme),  4CF3,                    KCl,                      THF] 89\n",
      "[NiBr2(glyme),  4CF3,                    KBr,                     CPME] 86\n",
      "[NiBr2(glyme),  4CF3,                     KI,                      THF] 84\n",
      "[NiBr2(glyme),  4CF3,                    KBr,                  Acetonitrile] 81\n",
      "[NiBr2(glyme),  4CF3,                    KCl,                  Dioxane] 76\n",
      "[NiBr2(glyme),  4CF3,                     KI,                  Dioxane] 72\n",
      "[NiBr2(glyme),  4CF3,                    KBr,                    glyme] 69\n",
      "[NiBr2(glyme),  4CF3,                  TBABr,                      THF] 55\n",
      "[NiBr2(glyme),  4CF3,                  MgBr2,                      THF] 55\n",
      "[NiBr2(glyme),  4CF3,                    KBr,                   tBuOMe] 54\n",
      "[NiBr2(glyme),  4CF3,                    KCl,                  Acetonitrile] 53\n",
      "[NiBr2(glyme),  4CF3,                    KCl,                     CPME] 49\n",
      "[NiBr2(glyme),  4CF3,                     KI,                  Acetonitrile] 45\n",
      "[NiBr2(glyme),  4CF3,                     KI,                     CPME] 45\n",
      "[NiBr2(glyme),  4CF3,                    KBr,                     Bu2O] 45\n",
      "[NiBr2(glyme),  4CF3,                    KCl,                    glyme] 39\n",
      "[NiBr2(glyme),  4CF3,                  TBABr,                  Dioxane] 36\n",
      "[NiBr2(glyme),  4CF3,                  MgBr2,                  Dioxane] 36\n",
      "[NiBr2(glyme),  4CF3,                    KBr,                      DMA] 33\n",
      "[        NiI2,  4CF3,                    KBr,                      THF] 33\n",
      "[NiBr2(glyme),  4CF3,                    KBr,                      NMP] 32\n",
      "[    Ni(COD)2,  4CF3,                    KBr,                      THF] 32\n"
     ]
    }
   ],
   "source": [
    "# Suggestions from 100 trees with 24 votes\n",
    "count_list = count_num_topN_suggestions(\n",
    "    [combined_models_100_trees], \n",
    "    X_candidate_desc, \n",
    "    24\n",
    ")\n",
    "print_suggestions(X_candidate_id, count_list[0], 24)"
   ]
  },
  {
   "cell_type": "code",
   "execution_count": 12,
   "metadata": {},
   "outputs": [
    {
     "name": "stdout",
     "output_type": "stream",
     "text": [
      "[NiBr2(glyme),  4CF3,                    KBr,                      THF] 92\n",
      "[NiBr2(glyme),  4CF3,                    KBr,                  Dioxane] 69\n",
      "[NiBr2(glyme),  4CF3,                    KCl,                      THF] 51\n",
      "[NiBr2(glyme),  4CF3,                     KI,                      THF] 46\n",
      "[NiBr2(glyme),  4CF3,                    KBr,                  Acetonitrile] 39\n",
      "[NiBr2(glyme),  4CF3,                    KBr,                     CPME] 31\n",
      "[NiBr2(glyme),  4CF3,                    KCl,                  Dioxane] 28\n",
      "[NiBr2(glyme),  4CF3,                     KI,                  Dioxane] 22\n",
      "[NiBr2(glyme),  4CF3,                    KBr,                    glyme] 21\n",
      "[NiBr2(glyme),  4CF3,                  TBABr,                      THF] 18\n",
      "[NiBr2(glyme),  4CF3,                  MgBr2,                      THF] 17\n",
      "[NiBr2(glyme),  4CF3,                    KBr,                   tBuOMe] 12\n"
     ]
    }
   ],
   "source": [
    "# Suggestions from 100 trees with 6 votes\n",
    "count_list = count_num_topN_suggestions(\n",
    "    [combined_models_100_trees], \n",
    "    X_candidate_desc, \n",
    "    6\n",
    ")\n",
    "print_suggestions(X_candidate_id, count_list[0], 12)"
   ]
  },
  {
   "cell_type": "markdown",
   "metadata": {},
   "source": [
    "## Second iteration"
   ]
  },
  {
   "cell_type": "code",
   "execution_count": 13,
   "metadata": {},
   "outputs": [
    {
     "name": "stdout",
     "output_type": "stream",
     "text": [
      "[1. 1. 1. 0. 0. 1.]\n"
     ]
    }
   ],
   "source": [
    "### Array preparation of experiments done in the second iteration\n",
    "second_df = sheets_to_list_of_dfs(\"./data/reaction_data.xlsx\", [\"ProIndan\"])\n",
    "second_id_array = second_df[0].iloc[:6, 1:-2].to_numpy()\n",
    "second_ProInd_desc = id_array_to_desc_array(second_id_array, True)\n",
    "\n",
    "second_assay_yield = second_df[0].iloc[:6, -1].to_numpy()\n",
    "second_y = np.zeros(len(second_assay_yield))\n",
    "second_y[np.where(second_assay_yield >= 32)[0]] = 1\n",
    "print(second_y)"
   ]
  },
  {
   "cell_type": "code",
   "execution_count": 14,
   "metadata": {},
   "outputs": [],
   "source": [
    "second_target_models = train_target_models(second_ProInd_desc, second_y, 100, 15, max_depth=1)\n",
    "second_combined_models = combine_two_model_list_shuffled(combined_models_100_trees, second_target_models)"
   ]
  },
  {
   "cell_type": "code",
   "execution_count": 15,
   "metadata": {},
   "outputs": [
    {
     "name": "stdout",
     "output_type": "stream",
     "text": [
      "Before removing previous samples:  (18258, 5) (18258, 58)\n",
      "After removing previous samples:  (18252, 5) (18252, 58)\n"
     ]
    }
   ],
   "source": [
    "# Removing the reactions conducted in first iteration\n",
    "print(\"Before removing previous samples: \", X_candidate_id.shape, X_candidate_desc.shape)\n",
    "X_candidate_id, X_candidate_desc = remove_prev_sampled_rxns(\n",
    "    X_candidate_id, X_candidate_desc, second_id_array[:, 2:]\n",
    ")\n",
    "print(\"After removing previous samples: \", X_candidate_id.shape, X_candidate_desc.shape)"
   ]
  },
  {
   "cell_type": "code",
   "execution_count": 16,
   "metadata": {},
   "outputs": [
    {
     "name": "stdout",
     "output_type": "stream",
     "text": [
      "[NiBr2(glyme),  4CF3,                  ZnCl2,                      THF] 81\n",
      "[NiBr2(glyme),  4CF3,                  MgCl2,                      THF] 78\n",
      "[NiBr2(glyme),  4CF3,                  TMSCl,                      THF] 77\n",
      "[NiBr2(glyme),  4CF3,                  TBACl,                      THF] 77\n",
      "[NiBr2(glyme),  4CF3,                   NaCl,                      THF] 77\n",
      "[NiBr2(glyme),  4CF3,                   TBAI,                      THF] 74\n",
      "[NiBr2(glyme),  4CF3,                    NaI,                      THF] 73\n",
      "[        NiI2,  4CF3,                     KI,                      THF] 63\n",
      "[    Ni(COD)2,  4CF3,                     KI,                      THF] 63\n",
      "[NiBr2(glyme),  4CF3,            succinimide,                      THF] 62\n",
      "[NiBr2(glyme),  4CF3,                    KCl,                     CPME] 61\n",
      "[        NiI2,  4CF3,                    KCl,                      THF] 60\n",
      "[NiBr2(glyme),  4CF3,                   None,                      THF] 59\n",
      "[NiBr2(glyme),  4CF3,                     KI,                     CPME] 58\n",
      "[    Ni(COD)2,  4CF3,                    KCl,                      THF] 58\n",
      "[NiCl2(glyme),  4CF3,                    KCl,                      THF] 58\n",
      "[NiCl2(glyme),  4CF3,                     KI,                      THF] 56\n",
      "[NiBr2(glyme),  4CF3,                  MgBr2,                      THF] 47\n",
      "[NiBr2(glyme),  4CF3,                  TBABr,                      THF] 45\n",
      "[        NiI2,  4CF3,                    KBr,                      THF] 35\n",
      "[    Ni(COD)2,  4CF3,                    KBr,                      THF] 34\n",
      "[NiCl2(glyme),  4CF3,                    KBr,                      THF] 34\n",
      "[NiBr2(glyme),  4CF3,                  ZnCl2,                     CPME] 31\n",
      "[NiBr2(glyme),  4CF3,                  TBACl,                     CPME] 31\n"
     ]
    }
   ],
   "source": [
    "second_rxn_counter2 = Counter()\n",
    "for rfc in second_combined_models :\n",
    "    proba = rfc.predict_proba(X_candidate_desc)[:,1]\n",
    "    best_rxns = np.argsort(proba)[::-1][:24]\n",
    "    second_rxn_counter2.update(best_rxns)\n",
    "print_suggestions(X_candidate_id, second_rxn_counter2, 24)"
   ]
  },
  {
   "cell_type": "markdown",
   "metadata": {},
   "source": [
    "## Third iteration"
   ]
  },
  {
   "cell_type": "code",
   "execution_count": 17,
   "metadata": {},
   "outputs": [
    {
     "name": "stdout",
     "output_type": "stream",
     "text": [
      "[0. 0. 0. 0. 0. 1. 1.]\n",
      "(7, 58)\n"
     ]
    }
   ],
   "source": [
    "### Array preparation of experiments done in the second iteration\n",
    "third_df = sheets_to_list_of_dfs(\"./data/reaction_data.xlsx\", [\"ProIndan\"])\n",
    "third_id_array = second_df[0].iloc[6:12, 1:-2].to_numpy()\n",
    "third_ProInd_desc = id_array_to_desc_array(third_id_array, True)\n",
    "\n",
    "third_assay_yield = third_df[0].iloc[6:12, -1].to_numpy()\n",
    "third_y = np.zeros(len(third_assay_yield))\n",
    "third_y[np.where(third_assay_yield >= 32)[0]] = 1\n",
    "# Augmenting the single positive label\n",
    "third_y = np.concatenate((third_y, [1]))\n",
    "third_ProInd_desc = np.vstack((third_ProInd_desc, third_ProInd_desc[-1,:]))\n",
    "print(third_y)\n",
    "print(third_ProInd_desc.shape)"
   ]
  },
  {
   "cell_type": "code",
   "execution_count": 18,
   "metadata": {},
   "outputs": [],
   "source": [
    "third_target_models = train_target_models(third_ProInd_desc, third_y, 100, 15, max_depth=1)\n",
    "third_combined_models = combine_two_model_list_shuffled(second_combined_models, third_target_models)"
   ]
  },
  {
   "cell_type": "code",
   "execution_count": 19,
   "metadata": {},
   "outputs": [
    {
     "name": "stdout",
     "output_type": "stream",
     "text": [
      "Before removing previous samples:  (18252, 5) (18252, 58)\n",
      "After removing previous samples:  (18246, 5) (18246, 58)\n"
     ]
    }
   ],
   "source": [
    "# Removing the reactions conducted in first iteration\n",
    "print(\"Before removing previous samples: \", X_candidate_id.shape, X_candidate_desc.shape)\n",
    "X_candidate_id, X_candidate_desc = remove_prev_sampled_rxns(\n",
    "    X_candidate_id, X_candidate_desc, third_id_array[:, 2:]\n",
    ")\n",
    "print(\"After removing previous samples: \", X_candidate_id.shape, X_candidate_desc.shape)"
   ]
  },
  {
   "cell_type": "code",
   "execution_count": 20,
   "metadata": {},
   "outputs": [
    {
     "name": "stdout",
     "output_type": "stream",
     "text": [
      "[    Ni(COD)2,  4CF3,                  TMSCl,                      THF] 98\n",
      "[        NiI2,  4CF3,                  TMSCl,                      THF] 98\n",
      "[NiCl2(glyme),  4CF3,                  TMSCl,                      THF] 96\n",
      "[NiBr2(glyme),  4CF3,                  TMSCl,                     CPME] 95\n",
      "[   Ni(acac)2,  4CF3,                  TMSCl,                      THF] 83\n",
      "[    Ni(COD)2,  4CF3,                  TMSCl,                     CPME] 72\n",
      "[        NiI2,  4CF3,                  TMSCl,                     CPME] 72\n",
      "[NiBr2(glyme),  4CF3,                  TMSCl,                    glyme] 71\n",
      "[NiCl2(glyme),  4CF3,                  TMSCl,                     CPME] 67\n",
      "[NiBr2(glyme),  4CF3,                  ZnCl2,                      THF] 64\n",
      "[NiBr2(glyme),  4CF3,                  TMSCl,                     Bu2O] 63\n",
      "[NiBr2(glyme),  4CF3,                    KCl,                     CPME] 59\n",
      "[NiBr2(glyme),  4CF3,                  TMSCl,                   tBuOMe] 59\n",
      "[        NiI2,  4CF3,                    KCl,                      THF] 57\n",
      "[    Ni(COD)2,  4CF3,                    KCl,                      THF] 56\n",
      "[NiCl2(glyme),  4CF3,                    KCl,                      THF] 53\n",
      "[   Ni(acac)2,  4CF3,                  TMSCl,                     CPME] 51\n",
      "[NiBr2(glyme),  4CF3,                  TMSCl,                      DMA] 38\n",
      "[        NiI2,  4CF3,                  TMSCl,                    glyme] 38\n",
      "[NiCl2(glyme),  4CF3,                  TMSCl,                    glyme] 37\n",
      "[    Ni(COD)2,  4CF3,                  TMSCl,                    glyme] 37\n",
      "[NiBr2(glyme),   5CN,                  TMSCl,                      THF] 35\n",
      "[NiBr2(glyme),  4CF3,                  TMSCl,                      NMP] 34\n",
      "[   Ni(acac)2,  4CF3,                    KCl,                      THF] 31\n"
     ]
    }
   ],
   "source": [
    "third_rxn_counter = Counter()\n",
    "for rfc in third_combined_models :\n",
    "    proba = rfc.predict_proba(X_candidate_desc)[:,1]\n",
    "    best_rxns = np.argsort(proba)[::-1][:24]\n",
    "    third_rxn_counter.update(best_rxns)\n",
    "print_suggestions(X_candidate_id, third_rxn_counter, 24)"
   ]
  },
  {
   "cell_type": "markdown",
   "metadata": {},
   "source": [
    "## Model Analysis"
   ]
  },
  {
   "cell_type": "code",
   "execution_count": 21,
   "metadata": {},
   "outputs": [],
   "source": [
    "source_desc_utilized = get_descriptors_used_by_target_models(noProIndan_source_model_100_trees, desc_names)\n",
    "first_desc_utilized = get_descriptors_used_by_target_models(target_models, desc_names)\n",
    "second_desc_utilized = get_descriptors_used_by_target_models(second_target_models, desc_names)\n",
    "third_desc_utilized = get_descriptors_used_by_target_models(third_target_models, desc_names)\n",
    "desc_utilized_by_batch = [source_desc_utilized, first_desc_utilized, second_desc_utilized, third_desc_utilized]"
   ]
  },
  {
   "cell_type": "code",
   "execution_count": 22,
   "metadata": {},
   "outputs": [
    {
     "data": {
      "image/png": "[encoded data removed]",
      "text/plain": [
       "<Figure size 640x480 with 1 Axes>"
      ]
     },
     "metadata": {},
     "output_type": "display_data"
    }
   ],
   "source": [
    "desc_index = [desc_names.index('Katritzky E_red'), desc_names.index('NiCl2'), desc_names.index('Ligand Ni-X'), desc_names.index('Cl'), desc_names.index('Solvent HansenD')]\n",
    "prev_ind = 0\n",
    "position = [-1.5, -0.5, 0.5, 1.5]\n",
    "width = 0.15\n",
    "bar_colors = [\"#440154\", \"#39568C\", \"#1F968B\", \"#95D840\"]\n",
    "bar_labels = [\"Source\", \"Iter 1\", \"Iter 2\", \"Iter 3\"]\n",
    "component_names = [\"NHPI\", \"Pyridinium\", \"Ni\", \"Ligand\", \"Additive\", \"Solvent\"]\n",
    "\n",
    "fig, ax = plt.subplots()\n",
    "for i, desc_batch in enumerate(desc_utilized_by_batch) : \n",
    "    bars = []\n",
    "    bar_x_pos = [x + position[i]*width for x in range(len(desc_index)+1)] \n",
    "    for j, div_ind in enumerate(desc_index):\n",
    "        bars.append(sum(desc_batch[prev_ind:div_ind])/sum(desc_batch))\n",
    "        if j == len(desc_index) - 1:\n",
    "            bars.append(sum(desc_batch[div_ind:])/sum(desc_batch))\n",
    "        ax.axvline(j+0.5, 0, 1, ls=\"--\", c='grey')\n",
    "        prev_ind = div_ind \n",
    "    ax.bar(bar_x_pos, bars, label=bar_labels[i], color=[bar_colors[i]]*len(bars), width=width, )\n",
    "ax.set_xticks(np.arange(6))\n",
    "ax.set_xticklabels(component_names)\n",
    "ax.set_xlabel(\"Reaction Component\", fontsize=14)\n",
    "ax.set_ylim([0,1])\n",
    "ax.set_yticks(0.2*np.arange(6))\n",
    "ax.set_ylabel(\"Proportion of Descriptors\", fontsize=14)\n",
    "ax.set_yticklabels([round(0.2*x, 1) for x in np.arange(6)])\n",
    "\n",
    "ax.legend(loc=\"upper left\")\n",
    "for axis in ['top', 'bottom', 'left', 'right']:\n",
    "    ax.spines[axis].set_linewidth(2)"
   ]
  }
 ],
 "metadata": {
  "kernelspec": {
   "display_name": "atl",
   "language": "python",
   "name": "python3"
  },
  "language_info": {
   "codemirror_mode": {
    "name": "ipython",
    "version": 3
   },
   "file_extension": ".py",
   "mimetype": "text/x-python",
   "name": "python",
   "nbconvert_exporter": "python",
   "pygments_lexer": "ipython3",
   "version": "3.10.6"
  }
 },
 "nbformat": 4,
 "nbformat_minor": 2
}
